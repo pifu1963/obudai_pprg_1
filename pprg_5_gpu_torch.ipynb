{
 "cells": [
  {
   "metadata": {},
   "cell_type": "markdown",
   "source": "# PyTorch examples and usages",
   "id": "498f0ade475e060c"
  },
  {
   "metadata": {},
   "cell_type": "markdown",
   "source": "Importing the entire pytorch package",
   "id": "a8a7d7c4af34a043"
  },
  {
   "metadata": {},
   "cell_type": "code",
   "source": "import torch",
   "id": "64f98564b2df632f",
   "outputs": [],
   "execution_count": null
  },
  {
   "metadata": {},
   "cell_type": "code",
   "source": "from timeit import default_timer as timer # for timing the application",
   "id": "420eda2e32e297bd",
   "outputs": [],
   "execution_count": null
  },
  {
   "metadata": {},
   "cell_type": "markdown",
   "source": "Using different devices for computation",
   "id": "b9f78f3f3eec81df"
  },
  {
   "metadata": {},
   "cell_type": "code",
   "source": [
    "device_gpu = torch.device('cuda') if torch.cuda.is_available() else 'cpu'\n",
    "device_cpu = torch.device('cpu')"
   ],
   "id": "dbabd30cc0f522e6",
   "outputs": [],
   "execution_count": null
  },
  {
   "metadata": {},
   "cell_type": "markdown",
   "source": "## 1. Expressing the power of gpus vs cpus and ease of usage with PyTorch",
   "id": "4747cd1f400ccb04"
  },
  {
   "metadata": {},
   "cell_type": "code",
   "source": "problem_size = [100, 100, 100]",
   "id": "7edbe5ddd0d162cd",
   "outputs": [],
   "execution_count": null
  },
  {
   "metadata": {},
   "cell_type": "code",
   "source": "data = torch.rand(problem_size).to(device_gpu)",
   "id": "7920bbd39cc45ef7",
   "outputs": [],
   "execution_count": null
  },
  {
   "metadata": {},
   "cell_type": "code",
   "source": [
    "start = timer()\n",
    "data.sum()\n",
    "end = timer()\n",
    "print(\"Time needed to run the sum with gpu: \", end - start)"
   ],
   "id": "cd2a1943055089dd",
   "outputs": [],
   "execution_count": null
  },
  {
   "metadata": {},
   "cell_type": "code",
   "source": "data_cpu = data.to(device_cpu)",
   "id": "dbdde203178a1bef",
   "outputs": [],
   "execution_count": null
  },
  {
   "metadata": {},
   "cell_type": "code",
   "source": [
    "start = timer()\n",
    "data_cpu.sum()\n",
    "end = timer()\n",
    "print(\"Time needed to run the sum with cpu: \", end - start)"
   ],
   "id": "bb976ff18f75ab98",
   "outputs": [],
   "execution_count": null
  },
  {
   "metadata": {},
   "cell_type": "markdown",
   "source": "## 2. Example on how to use the profiler and examples",
   "id": "89b8d8de69869a4"
  },
  {
   "metadata": {},
   "cell_type": "code",
   "source": "from torch.profiler import profile, record_function, ProfilerActivity",
   "id": "56ddf87520b16a6e",
   "outputs": [],
   "execution_count": null
  },
  {
   "metadata": {},
   "cell_type": "markdown",
   "source": "1. Usage with CPUs",
   "id": "10fa6df699fcde1"
  },
  {
   "metadata": {},
   "cell_type": "code",
   "source": [
    "with profile(activities=[ProfilerActivity.CPU], record_shapes=True) as prof:\n",
    "    with record_function(\"model_inference\"):\n",
    "        data_cpu.sum()"
   ],
   "id": "6904711b140ab54b",
   "outputs": [],
   "execution_count": null
  },
  {
   "metadata": {},
   "cell_type": "code",
   "source": "print(prof.key_averages().table(sort_by=\"cpu_time_total\", row_limit=10))",
   "id": "423a681fb48c1e1b",
   "outputs": [],
   "execution_count": null
  },
  {
   "metadata": {},
   "cell_type": "code",
   "source": "print(prof.key_averages(group_by_input_shape=True).table(sort_by=\"cpu_time_total\", row_limit=10))",
   "id": "7094d238a9182906",
   "outputs": [],
   "execution_count": null
  },
  {
   "metadata": {},
   "cell_type": "markdown",
   "source": "2. Usage with GPUs",
   "id": "96c47fc3a573054b"
  },
  {
   "metadata": {},
   "cell_type": "code",
   "source": [
    "with profile(activities=[ProfilerActivity.CUDA], record_shapes=True) as prof:\n",
    "    with record_function(\"model_inference\"):\n",
    "        data.sum()"
   ],
   "id": "77d1ee5d2ff01949",
   "outputs": [],
   "execution_count": null
  },
  {
   "metadata": {},
   "cell_type": "code",
   "source": "print(prof.key_averages().table(sort_by=\"cpu_time_total\", row_limit=10))",
   "id": "c6cbcb8d28b77e30",
   "outputs": [],
   "execution_count": null
  },
  {
   "metadata": {},
   "cell_type": "code",
   "source": "print(prof.key_averages(group_by_input_shape=True).table(sort_by=\"cpu_time_total\", row_limit=10))",
   "id": "f154753ca3490fc0",
   "outputs": [],
   "execution_count": null
  },
  {
   "metadata": {},
   "cell_type": "markdown",
   "source": "## 3. Using the debugger",
   "id": "bea14e5166b49f17"
  },
  {
   "metadata": {},
   "cell_type": "markdown",
   "source": "Piece of cake, for advanced usage see: https://uvadlc-notebooks.readthedocs.io/en/latest/tutorial_notebooks/guide3/Debugging_PyTorch.html",
   "id": "4c3f0512bb493525"
  }
 ],
 "metadata": {
  "kernelspec": {
   "display_name": "Python 3",
   "language": "python",
   "name": "python3"
  },
  "language_info": {
   "codemirror_mode": {
    "name": "ipython",
    "version": 2
   },
   "file_extension": ".py",
   "mimetype": "text/x-python",
   "name": "python",
   "nbconvert_exporter": "python",
   "pygments_lexer": "ipython2",
   "version": "2.7.6"
  }
 },
 "nbformat": 4,
 "nbformat_minor": 5
}
