{
 "cells": [
  {
   "metadata": {},
   "cell_type": "markdown",
   "source": "## 1. [JAX](https://github.com/google/jax) ",
   "id": "603ad943c980b806"
  },
  {
   "metadata": {},
   "cell_type": "code",
   "source": [
    "import jax.numpy as jnp\n",
    "from jax import jit\n",
    "import numpy as np"
   ],
   "id": "fc2f21bfcec6f73b",
   "outputs": [],
   "execution_count": null
  },
  {
   "metadata": {},
   "cell_type": "code",
   "source": "from timeit import default_timer as timer # for timing the application",
   "id": "ac6b54b187eb706c",
   "outputs": [],
   "execution_count": null
  },
  {
   "metadata": {},
   "cell_type": "code",
   "source": [
    "def slow_f(x):\n",
    "  # Element-wise ops see a large benefit from fusion\n",
    "  return x * x + x * 2.0"
   ],
   "id": "c8d6fb8582a4f90c",
   "outputs": [],
   "execution_count": null
  },
  {
   "metadata": {},
   "cell_type": "code",
   "source": [
    "start = timer()\n",
    "x = np.ones((5000, 5000))\n",
    "end = timer()\n",
    "print(\"Time needed to run the sum with cpu: \", end - start)"
   ],
   "id": "fde82de23509927f",
   "outputs": [],
   "execution_count": null
  },
  {
   "metadata": {},
   "cell_type": "code",
   "source": [
    "# This is wrong, because JAX doesn't block until it is ready\n",
    "start = timer()\n",
    "x_no_block = jnp.ones((5000, 5000))\n",
    "end = timer()\n",
    "print(\"Time needed to run the sum with gpu: \", end - start)"
   ],
   "id": "bac77b84f3c6a62d",
   "outputs": [],
   "execution_count": null
  },
  {
   "metadata": {},
   "cell_type": "code",
   "source": [
    "# This is the correct solution\n",
    "start = timer()\n",
    "x_block = jnp.ones((5000, 5000)).block_until_ready()\n",
    "end = timer()\n",
    "print(\"Time needed to run the sum with gpu: \", end - start)"
   ],
   "id": "a6dd405c4756ba5d",
   "outputs": [],
   "execution_count": null
  },
  {
   "metadata": {},
   "cell_type": "markdown",
   "source": "## 2. [CuPy](https://cupy.dev/)",
   "id": "27a0a3323af5fb28"
  },
  {
   "metadata": {},
   "cell_type": "code",
   "source": [
    "import cupy as cp\n",
    "import numpy as np"
   ],
   "id": "7fda3f2385144ec4",
   "outputs": [],
   "execution_count": null
  },
  {
   "metadata": {},
   "cell_type": "code",
   "source": "problem_size = [100, 100, 100]",
   "id": "c68cd86535b2da34",
   "outputs": [],
   "execution_count": null
  },
  {
   "metadata": {},
   "cell_type": "code",
   "source": [
    "start = timer()\n",
    "rand_cpu = np.random.rand(*problem_size) # describe what * operator does to a list!\n",
    "end = timer()\n",
    "print(\"Time needed to run the sum with cpu: \", end - start)"
   ],
   "id": "7d6ec2b0c427ae73",
   "outputs": [],
   "execution_count": null
  },
  {
   "metadata": {},
   "cell_type": "code",
   "source": [
    "start = timer()\n",
    "rand_gpu = cp.random.rand(*problem_size)\n",
    "end = timer()\n",
    "print(\"Time needed to run the sum with gpu: \", end - start)"
   ],
   "id": "3ee52c34cc4fe5e2",
   "outputs": [],
   "execution_count": null
  },
  {
   "metadata": {},
   "cell_type": "markdown",
   "source": "Transferring data from cpu to the gpu",
   "id": "7c03f0a4891eaed7"
  },
  {
   "metadata": {},
   "cell_type": "code",
   "source": [
    "dat_cpu = np.random.rand(*problem_size)\n",
    "dat_gpu = cp.asarray(dat_cpu)"
   ],
   "id": "b7dcd04ce4bb449c",
   "outputs": [],
   "execution_count": null
  },
  {
   "metadata": {},
   "cell_type": "markdown",
   "source": "Transferring data from the gpu to the cpu",
   "id": "b6253205618636f2"
  },
  {
   "metadata": {},
   "cell_type": "code",
   "source": [
    "dat_gpu = cp.random.rand(*problem_size)\n",
    "dat_cpu = cp.asnumpy(dat_gpu)"
   ],
   "id": "55bb53cdffbbac42",
   "outputs": [],
   "execution_count": null
  },
  {
   "metadata": {},
   "cell_type": "markdown",
   "source": "Transferring data is quite similar as it is in pytorch!",
   "id": "9944bb3409b36682"
  },
  {
   "metadata": {},
   "cell_type": "markdown",
   "source": "## 3. [Numba](https://numba.pydata.org/)",
   "id": "e18416bfe45a2aba"
  },
  {
   "metadata": {},
   "cell_type": "code",
   "source": [
    "import numba\n",
    "print(numba.__version__)"
   ],
   "id": "f61c2e3986aad6a",
   "outputs": [],
   "execution_count": null
  },
  {
   "metadata": {},
   "cell_type": "code",
   "source": [
    "def bubblesort(X):\n",
    "    N = len(X)\n",
    "    for end in range(N, 1, -1):\n",
    "        for i in range(end - 1):\n",
    "            cur = X[i]\n",
    "            if cur > X[i + 1]:\n",
    "                tmp = X[i]\n",
    "                X[i] = X[i + 1]\n",
    "                X[i + 1] = tmp"
   ],
   "id": "8c492fbcb502510b",
   "outputs": [],
   "execution_count": null
  },
  {
   "metadata": {},
   "cell_type": "code",
   "source": [
    "import numpy as np\n",
    "\n",
    "original = np.arange(0.0, 10.0, 0.01, dtype='f4')\n",
    "shuffled = original.copy()\n",
    "np.random.shuffle(shuffled)"
   ],
   "id": "5bbd58d21e9dfa30",
   "outputs": [],
   "execution_count": null
  },
  {
   "metadata": {},
   "cell_type": "code",
   "source": [
    "sorted = shuffled.copy()\n",
    "start = timer()\n",
    "bubblesort(sorted)\n",
    "end = timer()\n",
    "print(\"Time needed to run the bubblesort with cpu: \", end - start)"
   ],
   "id": "42ec4b559429f08b",
   "outputs": [],
   "execution_count": null
  },
  {
   "metadata": {},
   "cell_type": "code",
   "source": [
    "# check if it is correct\n",
    "print(np.array_equal(sorted, original))"
   ],
   "id": "b255865b194603bf",
   "outputs": [],
   "execution_count": null
  },
  {
   "metadata": {},
   "cell_type": "markdown",
   "source": "Now try to convert the bubblesort algorithm to Numba internal representation",
   "id": "2044c3a195548b1f"
  },
  {
   "metadata": {},
   "cell_type": "code",
   "source": "bubblesort_jit = numba.jit(\"void(f4[:])\")(bubblesort)",
   "id": "b6cccc3f72ffd0df",
   "outputs": [],
   "execution_count": null
  },
  {
   "metadata": {},
   "cell_type": "code",
   "source": "sorted[:] = shuffled[:] # reset the shuffled array",
   "id": "5279868680158227",
   "outputs": [],
   "execution_count": null
  },
  {
   "metadata": {},
   "cell_type": "code",
   "source": [
    "start = timer()\n",
    "bubblesort_jit(sorted)\n",
    "end = timer()\n",
    "print(\"Time needed to run the bubblesort with cpu: \", end - start)"
   ],
   "id": "894e7ceda5e75517",
   "outputs": [],
   "execution_count": null
  },
  {
   "metadata": {},
   "cell_type": "code",
   "source": [
    "# check if the sorting process is correct or not\n",
    "print(np.array_equal(sorted, original))"
   ],
   "id": "e6b9a2592ed99b8f",
   "outputs": [],
   "execution_count": null
  },
  {
   "metadata": {},
   "cell_type": "code",
   "source": [
    "# One can use decorators as well if needed\n",
    "@numba.jit(\"void(f4[:])\")\n",
    "def bubblesort_jit(X):\n",
    "    N = len(X)\n",
    "    for end in range(N, 1, -1):\n",
    "        for i in range(end - 1):\n",
    "            cur = X[i]\n",
    "            if cur > X[i + 1]:\n",
    "                tmp = X[i]\n",
    "                X[i] = X[i + 1]\n",
    "                X[i + 1] = tmp"
   ],
   "id": "cd5be12b93a57962",
   "outputs": [],
   "execution_count": null
  },
  {
   "metadata": {},
   "cell_type": "markdown",
   "source": "For more examples visit: https://numba.pydata.org/numba-doc/0.13/tutorial_firststeps.html",
   "id": "142b618b7ffc1ef6"
  }
 ],
 "metadata": {
  "kernelspec": {
   "display_name": "Python 3",
   "language": "python",
   "name": "python3"
  },
  "language_info": {
   "codemirror_mode": {
    "name": "ipython",
    "version": 2
   },
   "file_extension": ".py",
   "mimetype": "text/x-python",
   "name": "python",
   "nbconvert_exporter": "python",
   "pygments_lexer": "ipython2",
   "version": "2.7.6"
  }
 },
 "nbformat": 4,
 "nbformat_minor": 5
}
